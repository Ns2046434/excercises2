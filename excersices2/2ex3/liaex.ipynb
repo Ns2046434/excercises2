{
 "cells": [
  {
   "cell_type": "markdown",
   "metadata": {},
   "source": [
    "Given: Two positive integers k\n",
    " (k≤7\n",
    ") and N\n",
    " (N≤2k\n",
    "). In this problem, we begin with Tom, who in the 0th generation has genotype Aa Bb. Tom has two children in the 1st generation, each of whom has two children, and so on. Each organism always mates with an organism having genotype Aa Bb.\n",
    "\n",
    "Return: The probability that at least N\n",
    " Aa Bb organisms will belong to the k\n",
    "-th generation of Tom's family tree (don't count the Aa Bb mates at each level). Assume that Mendel's second law holds for the factors"
   ]
  },
  {
   "cell_type": "code",
   "execution_count": 1,
   "metadata": {},
   "outputs": [],
   "source": [
    "with open('rosalind_lia.txt', 'r') as file:\n",
    "    line = file.read().strip()\n",
    "    k, n = map(int, line.split())"
   ]
  },
  {
   "cell_type": "code",
   "execution_count": 5,
   "metadata": {},
   "outputs": [
    {
     "name": "stdout",
     "output_type": "stream",
     "text": [
      "0.6600486821165726\n"
     ]
    }
   ],
   "source": [
    "def f(max_n):\n",
    "    factorials = [1] * (max_n + 1)\n",
    "    for i in range(2, max_n + 1):\n",
    "        factorials[i] = factorials[i - 1] * i\n",
    "    return factorials\n",
    "\n",
    "def con(i, j, factorials):\n",
    "    return factorials[i] // (factorials[j] * factorials[i - j])\n",
    "\n",
    "def lia(k, n):\n",
    "    p = 0\n",
    "    count = pow(2, k)  \n",
    "    factorials = f(count)  \n",
    "\n",
    "    for i in range(n, count + 1):\n",
    "        p += con(count, i, factorials) * pow(0.25, i) * pow(0.75, count - i)\n",
    "\n",
    "    return p\n",
    "\n",
    "print(lia(k, n))"
   ]
  }
 ],
 "metadata": {
  "kernelspec": {
   "display_name": "base",
   "language": "python",
   "name": "python3"
  },
  "language_info": {
   "codemirror_mode": {
    "name": "ipython",
    "version": 3
   },
   "file_extension": ".py",
   "mimetype": "text/x-python",
   "name": "python",
   "nbconvert_exporter": "python",
   "pygments_lexer": "ipython3",
   "version": "3.11.5"
  }
 },
 "nbformat": 4,
 "nbformat_minor": 2
}
