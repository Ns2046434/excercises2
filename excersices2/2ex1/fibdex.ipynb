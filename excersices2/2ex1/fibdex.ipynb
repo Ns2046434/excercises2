{
 "cells": [
  {
   "cell_type": "markdown",
   "metadata": {},
   "source": [
    "Given: Positive integers n≤100\n",
    " and m≤20\n",
    ".\n",
    "\n",
    "Return: The total number of pairs of rabbits that will remain after the n\n",
    "-th month if all rabbits live for m\n",
    " months"
   ]
  },
  {
   "cell_type": "code",
   "execution_count": 1,
   "metadata": {},
   "outputs": [],
   "source": [
    "with open('rosalind_fibd.txt', 'r') as file:\n",
    "    line = file.read().strip()\n",
    "    n, m = map(int, line.split())"
   ]
  },
  {
   "cell_type": "code",
   "execution_count": 2,
   "metadata": {},
   "outputs": [
    {
     "name": "stdout",
     "output_type": "stream",
     "text": [
      "350476158090137828560\n"
     ]
    }
   ],
   "source": [
    "def rabbit(n, m): \n",
    "    rlist = []\n",
    "    rlist.append(0)\n",
    "    rlist.append(1)\n",
    "    for i in range(1, n+1, 1):\n",
    "        if i < m:\n",
    "            rlist.append(rlist[i] + rlist[i-1])\n",
    "        if i == m:\n",
    "            rlist.append(rlist[i] + rlist[i-1] - rlist[i-m+1])\n",
    "        if i > m:\n",
    "            rlist.append(rlist[i] + rlist[i-1] - rlist[i-m])\n",
    "    return rlist[n]\n",
    "print(rabbit(n, m))"
   ]
  }
 ],
 "metadata": {
  "kernelspec": {
   "display_name": "base",
   "language": "python",
   "name": "python3"
  },
  "language_info": {
   "codemirror_mode": {
    "name": "ipython",
    "version": 3
   },
   "file_extension": ".py",
   "mimetype": "text/x-python",
   "name": "python",
   "nbconvert_exporter": "python",
   "pygments_lexer": "ipython3",
   "version": "3.11.5"
  }
 },
 "nbformat": 4,
 "nbformat_minor": 2
}
