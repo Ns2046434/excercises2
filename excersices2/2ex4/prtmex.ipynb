{
 "cells": [
  {
   "cell_type": "markdown",
   "metadata": {},
   "source": [
    "Given: A protein string P\n",
    " of length at most 1000 aa.\n",
    "\n",
    "Return: The total weight of P\n",
    ". Consult the monoisotopic mass table"
   ]
  },
  {
   "cell_type": "code",
   "execution_count": 1,
   "metadata": {},
   "outputs": [],
   "source": [
    "with open('rosalind_prtm.txt', 'r') as file:\n",
    "    line = file.read().strip()"
   ]
  },
  {
   "cell_type": "code",
   "execution_count": 2,
   "metadata": {},
   "outputs": [
    {
     "name": "stdout",
     "output_type": "stream",
     "text": [
      "114997.10395000053\n"
     ]
    }
   ],
   "source": [
    "masse = {\n",
    "        \"A\":71.03711, \"C\":103.00919, \"D\":115.02694, \"E\":129.04259, \"F\":147.06841,\n",
    "        \"G\":57.02146, \"H\":137.05891, \"I\":113.08406, \"K\":128.09496, \"L\":113.08406,\n",
    "        \"M\":131.04049, \"N\":114.04293, \"P\":97.05276, \"Q\":128.05858, \"R\":156.10111,\n",
    "        \"S\":87.03203, \"T\":101.04768, \"V\":99.06841, \"W\":186.07931, \"Y\":163.06333}\n",
    "\n",
    "weight = sum([masse[i] for i in line])\n",
    "print(weight)     "
   ]
  }
 ],
 "metadata": {
  "kernelspec": {
   "display_name": "base",
   "language": "python",
   "name": "python3"
  },
  "language_info": {
   "codemirror_mode": {
    "name": "ipython",
    "version": 3
   },
   "file_extension": ".py",
   "mimetype": "text/x-python",
   "name": "python",
   "nbconvert_exporter": "python",
   "pygments_lexer": "ipython3",
   "version": "3.11.5"
  }
 },
 "nbformat": 4,
 "nbformat_minor": 2
}
