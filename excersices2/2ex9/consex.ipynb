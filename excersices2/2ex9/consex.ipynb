{
 "cells": [
  {
   "cell_type": "markdown",
   "metadata": {},
   "source": [
    "Given: A collection of at most 10 DNA strings of equal length (at most 1 kbp) in FASTA format.\n",
    "\n",
    "Return: A consensus string and profile matrix for the collection. (If several possible consensus strings exist, then you may return any one of them.)"
   ]
  },
  {
   "cell_type": "code",
   "execution_count": 3,
   "metadata": {},
   "outputs": [],
   "source": [
    "with open('rosalind_cons.txt', 'r') as fa:\n",
    "    lines = fa.readlines()"
   ]
  },
  {
   "cell_type": "code",
   "execution_count": 4,
   "metadata": {},
   "outputs": [
    {
     "name": "stdout",
     "output_type": "stream",
     "text": [
      "TAAGTCCTCCACTTATCTACAGGAACACCAGAGCACAAACATGGGCAGCTCACGACAATTGCGAACGAACAAACCCTGCCTAAGAGCCAGAATAACACGCTAACCTGGGCCGATTCGTAACACTTCGTCAAAAACAGTCAAACAACCAACACACAACCGTCGACAAAGAACTAACAAGTTTACTCACTACTACTGCAAGGGACAGACGAAGGATAACCTCACCCGCAAACAGGAGCTTCAGGTGCAGGCAGTCCATACTATGACACCGTGCAGGAGACACAAAGTGCTTGCTATAAGCACTCGGTCTCTATAAGTCGACACTCACTTTATGCAATCAACGATGGCTCACCAATCACCTACCCGTCCTGAAGCACCAGGAGGCCGTAACTAAAACTGGCGGGGAGTCTTAACTCCGGACAATGGGTCCGATTCATTACCTGACATTCTCAACGCACGGTAACTAAAACAAGCGTAACGTATCGCTATGGTACACGAATGTACCCACACAACAACAGGAAAGCAGACCAGCGAGGGTGGTGAGACGTTAATTTCGAGGGGACAGCTACCCTGAACCGCGCTGCCCTATCCGACAGGATGACAGTAAAAAACTAAATGACAATAATCCATAAGAATCACACATAAGACACAGCGGATCCGGCCTACGGCCCTTACACCCCAATTGCACGTAACCTAAAAGTGTAAGGGATCACAGAACAACATAACCTGAAAACTGCCCCATATTCAGCGCACTGTGCTAATGAAGGTACGCCGGGGCAAACCTGGGACCAACAGTAAGGAAACGCAATTACCACTTACGAACAAATTATAAGAATCCTAAACCGAATAGACGATTTTCGAGAAACGGCTACTACTTCGGGGAAGAGACAAGGGCTCGCATGCAAGAAGAATATAGACCGTCTATAACACCGCTAGCGCCGAAACGCCTCTAAATGAGCAGACATACGTACCTCCGGAAAACCCAAGATTGGCAAGAACGTA\n",
      "A: 2 4 5 0 3 2 3 3 1 2 4 1 1 2 3 3 1 3 4 2 4 1 2 4 3 1 3 2 1 4 2 3 2 2 5 2 4 6 4 2 4 2 2 3 2 0 4 2 1 2 2 4 2 2 4 3 5 5 1 2 3 1 3 5 5 2 1 3 6 2 4 3 4 2 0 2 2 0 1 3 0 5 4 2 4 2 1 3 3 0 3 3 3 3 3 2 3 2 2 2 3 3 4 2 2 1 1 2 2 2 1 1 3 3 0 2 1 3 3 3 2 4 1 1 3 3 3 2 3 4 3 3 3 3 1 4 3 3 1 4 4 4 1 3 4 2 0 4 3 3 4 0 3 1 5 5 2 2 1 3 2 1 4 1 4 3 5 3 3 7 2 2 4 4 3 5 5 3 3 2 2 3 3 3 1 4 3 2 3 1 1 3 0 1 2 3 5 3 2 2 1 4 1 3 2 3 0 2 4 3 1 2 3 2 4 6 3 1 1 0 4 3 2 2 2 2 3 6 4 2 4 2 3 4 3 1 3 2 2 5 1 2 3 0 2 5 2 2 1 4 1 2 2 2 4 2 4 3 3 4 0 3 4 2 3 1 1 0 2 2 2 4 2 2 5 1 4 1 4 2 7 4 3 2 2 1 1 3 1 2 2 3 4 0 3 6 2 1 4 2 2 3 3 2 1 2 0 2 0 4 1 4 5 3 0 2 0 4 2 4 3 2 0 3 3 1 2 2 3 2 2 2 3 6 2 2 4 4 2 1 4 1 1 0 2 2 1 3 0 2 4 3 2 1 5 3 3 2 4 2 2 3 1 1 2 3 2 2 5 4 2 1 3 1 2 4 2 1 5 1 1 2 1 1 1 4 3 2 2 5 3 4 5 2 1 2 2 2 0 2 3 4 4 2 2 0 3 3 3 3 2 1 1 2 2 2 4 3 3 3 3 3 3 2 2 1 1 2 5 1 1 2 5 4 0 4 1 1 3 2 4 1 4 0 2 3 3 2 5 3 4 1 1 4 2 1 1 3 4 5 1 0 3 3 4 5 3 5 3 1 3 2 0 3 4 3 1 2 4 0 0 1 2 1 5 2 3 2 3 4 1 4 4 1 4 4 1 2 2 4 3 3 0 3 0 4 3 4 3 3 4 6 2 4 1 2 3 3 4 1 2 5 2 4 2 2 3 2 2 0 3 2 2 2 3 1 2 2 3 4 2 4 1 2 2 2 4 4 0 2 3 2 2 4 3 2 3 1 5 2 3 1 3 2 3 1 1 3 2 3 4 4 2 2 1 2 2 1 3 3 2 1 3 3 4 2 1 2 3 6 2 3 3 2 3 3 2 3 2 3 2 2 4 4 3 4 5 4 1 1 5 3 4 1 2 3 3 4 4 2 3 4 1 3 1 3 1 4 4 2 4 3 2 1 4 2 4 4 3 3 4 4 1 4 0 3 0 3 1 2 1 2 4 2 2 0 1 1 0 2 1 5 2 2 3 1 1 1 0 2 3 3 5 3 3 3 1 4 3 2 3 2 1 5 2 2 2 4 4 2 3 2 4 4 4 3 4 1 4 3 5 4 1 2 2 4 3 2 5 1 3 2 3 4 2 4 3 2 3 1 4 4 2 2 3 1 5 4 4 4 3 2 2 2 2 2 3 3 2 4 1 3 1 4 2 1 2 1 4 2 1 3 2 3 1 1 3 3 3 2 4 3 0 3 3 3 2 2 1 2 1 2 3 1 2 4 3 3 1 1 3 0 1 2 4 2 2 3 4 1 4 2 1 4 4 2 2 4 3 4 0 2 2 3 3 1 1 3 1 1 5 1 0 3 4 1 2 3 5 3 4 5 4 1 1 4 3 3 3 2 4 3 2 1 2 2 3 4 4 2 3 2 5 4 2 3 2 4 2 2 6 3 2 3 2 3 1 3 1 3 4 3 1 2 2 3 2 4 2 2 4 1 3 2 2 3 2 2 2 4 3 1 5 2 3 2 5 3 1 2 0 3 2 2 3 2 3 3 0 0 3 4 2 4 3 3 5 3 0 7 2 3 4 4 1 1 2 3 3 3 3 1 6 5 1 3 1 1 2 2 1 3 2 2 2 2 0 1 4 4 4 2 3 1 3 2 0 2 5 4 3 1 1 5 1 2 3 1 4 2 3 3 3 2 2 2 3 1 2 1 1 2 2 1 3 4 4 3 1 2 1 4 4 4 4 1 1 1 3 1 5 3 2 5 3 3 1 1 3\n",
      "C: 1 2 0 3 2 3 5 2 4 4 2 6 2 1 2 1 3 1 1 3 1 1 1 1 3 4 1 3 8 1 2 2 3 4 2 3 3 1 3 3 3 2 1 0 2 4 2 3 4 2 3 3 4 2 1 4 2 1 3 1 2 7 2 2 3 5 1 2 0 4 3 3 2 3 4 4 1 1 4 4 1 4 4 2 3 2 3 5 1 2 3 2 0 3 2 3 3 3 2 4 2 3 4 4 4 0 1 2 2 4 6 1 2 2 3 5 2 2 3 2 3 3 4 1 1 4 1 3 4 2 2 3 2 3 4 1 2 1 5 2 3 4 4 3 0 4 4 1 3 5 2 7 2 4 3 2 3 4 2 2 3 1 3 5 2 3 3 2 1 1 7 1 0 1 4 2 1 1 0 2 1 3 4 2 3 3 4 2 2 3 3 1 4 3 3 4 2 1 3 2 2 1 3 2 2 2 4 2 2 2 3 2 2 2 3 0 4 5 3 5 1 5 3 4 2 3 3 3 0 4 2 0 1 4 1 3 3 1 3 2 3 2 0 2 4 0 2 1 3 2 3 2 4 3 3 2 2 4 1 2 2 2 1 4 3 4 3 4 2 2 3 2 2 2 3 1 1 5 2 3 0 1 3 2 2 2 4 1 3 2 4 2 1 2 2 2 2 5 3 4 2 4 2 1 4 3 1 5 3 3 3 3 2 0 3 3 3 1 4 1 4 2 5 2 4 3 2 2 2 0 2 4 3 1 1 3 2 2 4 1 0 3 3 4 4 1 4 3 4 3 1 2 3 3 2 5 4 1 2 5 4 4 0 2 3 4 2 3 1 2 2 4 2 5 5 2 2 3 0 3 1 5 3 3 1 3 3 4 1 2 1 0 1 6 2 2 2 3 2 2 1 1 2 1 2 5 2 1 3 3 3 3 3 3 0 2 1 4 3 3 1 0 1 2 2 4 4 0 1 2 2 5 4 0 3 1 3 4 0 2 2 4 3 2 1 4 0 5 1 2 5 1 4 2 4 2 1 3 1 2 6 2 3 2 1 0 4 2 3 3 4 2 3 2 3 4 4 3 2 3 4 4 4 2 0 2 3 2 2 2 4 2 5 2 1 2 3 2 2 3 4 4 4 2 4 2 4 1 3 4 3 2 3 2 3 2 3 2 4 1 5 0 2 3 5 5 3 2 5 2 3 1 2 1 1 3 2 2 0 2 3 2 4 1 2 0 1 3 0 1 1 3 2 2 2 3 1 2 1 4 1 1 4 2 2 4 4 4 1 1 2 2 5 3 2 5 2 4 2 2 6 6 4 1 1 3 6 5 1 3 5 2 2 2 3 1 2 3 4 2 3 2 1 4 2 0 0 2 5 2 1 3 2 2 2 1 4 1 2 2 3 2 2 4 3 3 3 2 3 1 2 2 1 3 0 5 2 5 3 2 3 3 2 1 5 3 6 3 1 3 2 3 2 2 3 4 3 2 4 3 3 1 3 2 3 4 4 4 3 2 2 4 1 4 4 4 3 4 2 2 1 1 4 3 4 1 2 1 1 3 4 1 2 2 4 2 0 4 1 2 4 2 2 2 2 2 3 5 2 7 3 2 1 2 4 3 3 3 3 2 1 3 4 5 2 2 2 2 2 0 4 1 1 3 4 5 4 2 1 1 3 0 5 3 1 3 2 3 1 4 2 1 0 2 6 0 1 3 2 3 1 3 2 1 2 3 4 1 4 5 1 2 2 1 4 3 2 1 6 5 1 1 3 0 1 5 3 3 3 3 3 2 2 3 1 2 2 2 1 2 6 3 4 2 3 0 3 1 5 3 3 4 3 2 2 5 2 2 1 4 2 1 1 2 2 4 1 3 3 0 2 2 3 3 4 1 2 3 2 4 4 1 2 2 2 3 1 4 3 2 4 0 2 1 2 4 1 2 1 2 2 3 6 2 1 4 1 1 4 0 3 6 1 3 3 0 3 2 3 2 3 1 3 3 2 3 1 3 3 2 2 4 2 3 0 5 2 1 4 4 3 3 1 4 3 1 0 2 2 2 1 3 1 0 6 4 2 2 4 1 3 1 2 1 4 3 3 3 3 4 2 2 1 3 2 5 4 2 3 1 2 3 1 4 4 1 4 2 2 3 3 3 2 2 3 3 2 1 2 3 2 0 1 4 2 1 2 3 3 2 4 3 3 2 3 2 1 3 4 4 3 1 3 0 2 3 3 3 2 4 3 3 1 1 3 4 2 2 3\n",
      "G: 1 1 4 5 1 2 1 1 3 2 1 1 3 3 3 1 3 2 3 3 4 5 4 1 3 2 3 2 1 1 4 2 4 1 1 3 2 1 2 2 3 2 4 6 3 3 2 4 3 2 3 0 1 4 2 1 3 2 1 3 4 0 4 1 1 2 6 3 1 3 2 1 2 3 3 3 1 5 3 2 4 0 2 3 2 3 3 2 3 6 3 3 3 1 3 3 2 2 3 4 1 2 1 4 3 3 5 3 4 2 2 5 2 1 2 0 5 0 1 2 2 2 3 2 1 0 4 1 2 3 2 2 2 2 2 2 4 2 2 2 2 0 2 1 2 2 3 3 1 2 3 0 2 2 1 1 2 1 4 1 3 4 2 3 2 1 0 4 3 2 0 3 3 1 2 1 2 5 3 1 3 3 1 1 3 1 0 2 3 3 2 3 3 2 5 1 3 3 5 3 5 3 3 3 3 3 4 4 1 2 5 3 3 1 1 3 1 2 2 1 3 1 3 2 4 2 1 0 4 3 2 5 4 1 4 3 0 2 3 2 4 3 3 6 2 3 4 4 3 3 4 2 3 2 0 2 1 1 2 1 3 4 2 2 2 3 3 5 2 4 2 0 5 3 1 7 3 1 1 2 2 2 3 4 2 5 3 2 1 4 2 1 4 2 3 1 3 1 1 3 2 1 4 4 0 2 4 1 3 0 2 2 2 5 2 3 4 2 2 4 0 2 1 2 2 2 2 2 3 3 3 4 1 3 3 2 1 2 2 4 3 1 4 5 1 2 4 2 3 2 3 3 1 3 3 1 1 2 0 1 2 0 7 2 3 2 2 4 1 4 5 4 2 2 2 2 3 4 2 5 4 1 3 4 3 1 1 1 3 1 3 4 2 1 3 3 3 3 5 4 4 5 2 4 2 1 1 0 2 3 3 2 3 3 5 5 2 3 2 2 2 6 4 3 2 3 2 4 2 3 1 1 0 1 2 1 3 3 2 3 2 3 3 3 3 1 3 3 2 2 0 4 4 0 1 4 4 0 3 3 2 3 3 3 1 4 2 0 2 4 0 4 3 2 1 2 5 1 1 2 2 5 0 3 3 2 4 3 1 2 2 1 1 4 4 0 2 4 2 3 0 1 3 3 2 3 3 3 1 1 2 1 3 2 4 3 3 3 2 5 1 2 4 1 2 0 2 3 1 4 3 6 4 6 2 5 3 2 4 2 4 3 3 4 1 3 3 0 3 3 2 2 4 1 5 4 4 4 1 4 3 4 2 2 2 3 2 2 3 4 2 2 2 2 5 3 4 1 1 4 1 1 1 0 3 0 0 2 4 0 0 3 4 5 1 1 4 3 0 3 4 2 2 2 3 4 3 3 0 2 1 3 2 2 3 3 2 2 2 2 2 0 3 2 3 2 1 1 2 5 3 3 3 3 3 1 0 1 1 1 1 1 4 4 3 2 1 2 4 2 5 5 2 2 3 3 4 5 2 3 1 3 2 4 4 4 3 3 1 2 3 2 2 2 2 1 3 2 2 1 2 4 2 1 4 5 1 2 1 2 0 2 2 3 2 2 5 0 5 1 0 3 4 4 3 1 0 0 2 0 2 3 3 2 3 2 2 3 2 2 3 1 1 2 1 4 1 1 1 3 0 3 4 2 3 1 0 2 1 2 2 1 4 3 4 3 5 3 3 1 3 4 3 4 1 2 3 2 0 5 4 2 4 4 1 3 1 5 2 2 4 4 4 6 3 2 3 3 0 0 2 6 5 4 1 3 3 2 1 3 3 3 1 2 2 3 3 3 3 1 0 4 4 2 1 4 2 3 2 3 0 3 3 1 2 2 5 3 2 3 1 1 4 3 3 1 2 2 3 4 2 2 1 3 2 2 2 1 2 0 2 4 1 2 2 1 4 1 2 4 0 3 2 2 2 2 4 3 5 2 2 1 2 3 5 2 1 1 2 2 1 1 2 0 3 4 4 3 4 2 2 4 1 4 2 2 3 1 4 3 4 1 1 2 5 1 3 2 5 4 3 2 4 1 3 4 3 2 3 0 3 2 5 3 2 1 4 1 2 1 2 2 2 4 3 2 3 3 4 2 2 3 4 3 5 1 3 4 1 3 1 2 4 3 2 3 2 1 3 1 3 2 6 2 4 3 2 4 3 2 3 3 3 1 6 2 3 3 3 3 3 2 4 5 1 2 2 1 4 1 3 3 2 5 2 2 2 4 4 4 1 2 4 3 2 2 5 3 1\n",
      "T: 6 3 1 2 4 3 1 4 2 2 3 2 4 4 2 5 3 4 2 2 1 3 3 4 1 3 3 3 0 4 2 3 1 3 2 2 1 2 1 3 0 4 3 1 3 3 2 1 2 4 2 3 3 2 3 2 0 2 5 4 1 2 1 2 1 1 2 2 3 1 1 3 2 2 3 1 6 4 2 1 5 1 0 3 1 3 3 0 3 2 1 2 4 3 2 2 2 3 3 0 4 2 1 0 1 6 3 3 2 2 1 3 3 4 5 3 2 5 3 3 3 1 2 6 5 3 2 4 1 1 3 2 3 2 3 3 1 4 2 2 1 2 3 3 4 2 3 2 3 0 1 3 3 3 1 2 3 3 3 4 2 4 1 1 2 3 2 1 3 0 1 4 3 4 1 2 2 1 4 5 4 1 2 4 3 2 3 4 2 3 4 3 3 4 0 2 0 3 0 3 2 2 3 2 3 2 2 2 3 3 1 3 2 5 2 1 2 2 4 4 2 1 2 2 2 3 3 1 2 1 2 3 2 1 2 3 4 5 2 1 2 3 4 2 2 2 2 3 3 1 2 4 1 3 3 4 3 2 4 3 5 1 3 2 2 2 3 1 4 2 3 4 1 3 1 1 2 3 3 3 1 3 1 2 4 2 2 4 5 2 2 4 1 6 2 1 3 3 2 1 4 2 1 3 5 3 5 2 4 3 4 1 1 2 5 2 3 3 2 1 3 4 4 3 1 4 4 4 2 5 3 0 3 0 4 3 3 2 2 4 3 5 2 1 3 5 1 2 3 3 2 2 4 3 0 1 2 5 4 2 2 3 2 5 2 1 4 1 3 0 1 1 3 2 1 2 3 2 3 1 4 2 3 2 5 2 3 3 4 2 3 2 2 1 4 3 3 2 3 2 2 0 2 3 4 4 4 6 2 1 2 4 3 2 3 1 3 0 2 2 4 1 2 3 4 2 3 4 2 4 6 2 1 5 5 4 3 2 5 3 2 2 0 5 4 2 4 0 2 3 1 4 1 4 3 3 4 4 2 0 1 5 1 2 4 1 1 3 2 2 3 2 4 3 2 1 0 4 3 5 4 0 4 4 2 4 0 3 4 2 3 3 0 3 1 4 4 2 4 0 3 2 3 2 4 1 0 2 3 2 1 1 2 2 2 3 1 2 0 3 2 3 2 2 1 3 2 3 2 4 1 1 2 1 4 1 3 4 3 2 1 1 2 3 5 5 2 3 7 4 4 3 2 3 0 1 2 3 3 0 3 4 1 4 3 2 3 1 4 2 2 2 1 3 2 0 2 4 4 1 1 2 2 6 2 5 3 1 2 1 3 2 1 1 3 5 2 1 4 2 1 4 3 0 2 2 2 1 4 5 3 1 2 5 3 3 1 3 2 4 2 4 4 1 3 2 5 3 1 2 1 2 4 3 3 2 4 0 3 4 2 2 3 1 2 2 3 2 4 3 2 0 2 4 2 3 2 2 4 2 5 1 3 2 0 1 2 2 6 4 2 1 2 1 1 2 3 0 3 5 4 3 3 1 0 2 5 3 4 3 3 5 2 1 0 3 1 5 0 4 1 1 3 2 3 3 4 3 1 2 2 3 3 2 1 1 2 2 2 5 2 2 3 1 4 3 2 3 3 3 3 4 3 3 1 2 3 3 6 3 4 6 0 0 3 3 1 3 2 3 4 2 5 1 2 7 3 2 5 0 1 2 4 2 4 1 3 2 3 1 4 2 1 2 1 1 2 3 3 4 4 3 1 4 4 0 2 2 2 3 0 3 6 1 3 3 3 1 3 3 4 1 0 3 3 5 4 3 2 3 2 2 4 4 2 2 1 2 2 0 3 3 1 4 4 1 4 2 1 4 2 3 4 3 2 5 3 2 2 4 1 3 2 2 4 3 3 1 3 2 0 4 4 4 4 1 4 2 3 3 2 3 1 3 2 1 6 4 2 6 2 2 4 5 2 3 1 3 1 2 2 4 1 1 3 3 1 3 2 3 4 2 5 3 2 2 2 4 1 2 1 1 3 1 1 2 2 3 5 1 4 2 0 3 1 4 2 4 1 5 2 6 0 0 2 2 3 3 1 2 5 2 3 2 1 2 3 3 2 2 3 3 2 2 1 4 4 5 0 2 1 4 1 1 2 2 3 4 1 3 2 4 3 3 0 5 2 3 2 4 2 3 1 2 3 2 3 3 1 3 3 2 1 1 2 4 4 2 1 1 1 2 3 1 2 1 2 4 3\n"
     ]
    }
   ],
   "source": [
    "seq_name, seq_string = [], []\n",
    "current_seq = \"\"\n",
    "\n",
    "for line in lines:\n",
    "    line = line.strip()\n",
    "    if line.startswith(\">\"):\n",
    "        if current_seq:\n",
    "            seq_string.append(current_seq)\n",
    "            current_seq = \"\"\n",
    "    else:\n",
    "        current_seq += line\n",
    "if current_seq:\n",
    "    seq_string.append(current_seq)  \n",
    "\n",
    "seq_len = len(seq_string)\n",
    "str_len = len(seq_string[0])\n",
    "\n",
    "symbol = [\"A\", \"C\", \"G\", \"T\"]\n",
    "m = [[0] * str_len for _ in range(len(symbol))] \n",
    "\n",
    "strr = []\n",
    "for c in range(str_len):\n",
    "    counts = {s: 0 for s in symbol}\n",
    "    for s in seq_string:\n",
    "        counts[s[c]] += 1\n",
    "    \n",
    "    mcs = max(counts, key=counts.get)\n",
    "    strr.append(mcs)\n",
    "    \n",
    "    for r, sym in enumerate(symbol):\n",
    "        m[r][c] = counts[sym]\n",
    "\n",
    "strr = ''.join(strr)\n",
    "\n",
    "print(strr)\n",
    "for i in range(len(symbol)):\n",
    "    print(\"{}: {}\".format(symbol[i], \" \".join(map(str, m[i]))))"
   ]
  }
 ],
 "metadata": {
  "kernelspec": {
   "display_name": "base",
   "language": "python",
   "name": "python3"
  },
  "language_info": {
   "codemirror_mode": {
    "name": "ipython",
    "version": 3
   },
   "file_extension": ".py",
   "mimetype": "text/x-python",
   "name": "python",
   "nbconvert_exporter": "python",
   "pygments_lexer": "ipython3",
   "version": "3.11.5"
  }
 },
 "nbformat": 4,
 "nbformat_minor": 2
}
