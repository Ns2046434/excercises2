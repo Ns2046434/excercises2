{
 "cells": [
  {
   "cell_type": "markdown",
   "metadata": {},
   "source": [
    "Given: A DNA string s\n",
    " (of length at most 1 kbp) and a collection of substrings of s\n",
    " acting as introns. All strings are given in FASTA format.\n",
    "\n",
    "Return: A protein string resulting from transcribing and translating the exons of s\n",
    ". (Note: Only one solution will exist for the dataset provided.)"
   ]
  },
  {
   "cell_type": "code",
   "execution_count": 32,
   "metadata": {},
   "outputs": [],
   "source": [
    "with open('rosalind_splc.txt', 'r') as fa:\n",
    "    lines = fa.readlines()"
   ]
  },
  {
   "cell_type": "code",
   "execution_count": 34,
   "metadata": {},
   "outputs": [
    {
     "name": "stdout",
     "output_type": "stream",
     "text": [
      "MSLPQRVLSGFLIHSLPCTIASNCLYNCVSQFVSFTRGCAHSSTVNLLGRGECTPHSVTKTSFPKGAGIKGSPEALNICALRTLSTLSHLPDGRNVNARLVNRLPKPMAVYTEEAENTTSKALFWCPRVRGLTFNLHEIRSELVPLCSAELGQGIHTRSQVNHSNTTRASATAGGLGSIKLLFEVVYGCEWPIS\n"
     ]
    }
   ],
   "source": [
    "seq_name = []\n",
    "seq_string = []\n",
    "current_seq = \"\"\n",
    "\n",
    "for line in lines:\n",
    "    line = line.strip()\n",
    "    if line.startswith(\">\"):\n",
    "        if current_seq:\n",
    "            seq_string.append(current_seq)\n",
    "            current_seq = \"\"\n",
    "        seq_name.append(line[1:])\n",
    "    else:\n",
    "        current_seq += line\n",
    "\n",
    "if current_seq:\n",
    "    seq_string.append(current_seq)\n",
    "\n",
    "coding_table = {\n",
    "    'TCT': 'S', 'TCC': 'S', 'TCA': 'S', 'TCG': 'S', \n",
    "    'TTT': 'F', 'TTC': 'F',\n",
    "    'TTA': 'L', 'TTG': 'L', 'CTT': 'L', 'CTC': 'L', 'CTA': 'L', 'CTG': 'L',\n",
    "    'TAT': 'Y', 'TAC': 'Y',\n",
    "    'TGT': 'C', 'TGC': 'C',\n",
    "    'TGG': 'W', \n",
    "    'CCT': 'P', 'CCC': 'P', 'CCA': 'P', 'CCG': 'P',\n",
    "    'CAT': 'H', 'CAC': 'H',\n",
    "    'CAA': 'Q', 'CAG': 'Q',\n",
    "    'CGT': 'R', 'CGC': 'R', 'CGA': 'R', 'CGG': 'R', 'AGA': 'R', 'AGG': 'R',\n",
    "    'ATT': 'I', 'ATC': 'I', 'ATA': 'I',\n",
    "    'ATG': 'M', 'AGC': 'S', 'AGT': 'S',\n",
    "    'ACT': 'T', 'ACC': 'T', 'ACA': 'T', 'ACG': 'T', \n",
    "    'AAT': 'N', 'AAC': 'N', \n",
    "    'AAA': 'K', 'AAG': 'K',\n",
    "    'GTT': 'V', 'GTC': 'V', 'GTA': 'V', 'GTG': 'V',\n",
    "    'GCT': 'A', 'GCC': 'A', 'GCA': 'A', 'GCG': 'A',\n",
    "    'GAT': 'D', 'GAC': 'D',\n",
    "    'GAA': 'E', 'GAG': 'E',\n",
    "    'GGT': 'G', 'GGC': 'G', 'GGA': 'G', 'GGG': 'G',\n",
    "    'TAA': 'end', 'TAG': 'end', 'TGA': 'end'\n",
    "}\n",
    "\n",
    "def splicing(dna, introns):\n",
    "    intron_set = set(introns)\n",
    "    \n",
    "    for intron in intron_set:\n",
    "        dna = dna.replace(intron, \"\")\n",
    "        \n",
    "    protein_string = \"\"\n",
    "    for i in range(0, len(dna) - 2, 3):\n",
    "        codon = dna[i:i + 3]\n",
    "        if coding_table[codon] == \"end\":\n",
    "            break\n",
    "        protein_string += coding_table[codon]\n",
    "        \n",
    "    return protein_string\n",
    "\n",
    "dna, introns = seq_string[0], seq_string[1:]\n",
    "rna_string = splicing(dna, introns)\n",
    "print(rna_string)"
   ]
  }
 ],
 "metadata": {
  "kernelspec": {
   "display_name": "base",
   "language": "python",
   "name": "python3"
  },
  "language_info": {
   "codemirror_mode": {
    "name": "ipython",
    "version": 3
   },
   "file_extension": ".py",
   "mimetype": "text/x-python",
   "name": "python",
   "nbconvert_exporter": "python",
   "pygments_lexer": "ipython3",
   "version": "3.11.5"
  }
 },
 "nbformat": 4,
 "nbformat_minor": 2
}
