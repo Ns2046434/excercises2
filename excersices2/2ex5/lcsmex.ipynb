{
 "cells": [
  {
   "cell_type": "markdown",
   "metadata": {},
   "source": [
    "Given: A collection of k\n",
    " (k≤100\n",
    ") DNA strings of length at most 1 kbp each in FASTA format.\n",
    "\n",
    "Return: A longest common substring of the collection. (If multiple solutions exist, you may return any single solution.)"
   ]
  },
  {
   "cell_type": "code",
   "execution_count": 31,
   "metadata": {},
   "outputs": [],
   "source": [
    "with open('rosalind_lcsm.txt', 'r') as file:\n",
    "    file_path = file.read().strip()\n",
    "    "
   ]
  },
  {
   "cell_type": "code",
   "execution_count": 38,
   "metadata": {},
   "outputs": [
    {
     "name": "stdout",
     "output_type": "stream",
     "text": [
      "TAATTCCGTAAGGCCATCGACCCCCATGGAGGTGGGGTTTCTCACCAGCACGCCCCCCGACATACCGGAGGTCTAGAAACTTCTATGCCCCCCTTTCGCACTACCGCTAACGCTGGGGTTCTCAAGAATGGTCCACGTACACCTGATGCACACAGTCCGATAGACCTATGTAAGAACATTGAGCAATACGGCCTCTCCTTGCTGAAATAGGCACCACCGAATATTAACGAGCCACCGGCTACCGGTATTAGTGCAGAT\n"
     ]
    }
   ],
   "source": [
    "def lcsg(s1, s2):\n",
    "    n, m = len(s1), len(s2)\n",
    "    dp = [[0] * (m + 1) for _ in range(n + 1)]\n",
    "    longest = 0\n",
    "    id = 0  \n",
    "\n",
    "    for i in range(1, n + 1):\n",
    "        for j in range(1, m + 1):\n",
    "            if s1[i - 1] == s2[j - 1]:\n",
    "                dp[i][j] = dp[i - 1][j - 1] + 1\n",
    "                if dp[i][j] > longest:\n",
    "                    longest = dp[i][j]\n",
    "                    id = i  \n",
    "            else:\n",
    "                dp[i][j] = 0 \n",
    "\n",
    "    \n",
    "    return s1[id - longest:id]\n",
    "\n",
    "def lcs(dnas):\n",
    "    sequences = list(dnas.values())\n",
    "    lc = sequences[0]\n",
    "\n",
    "    for seq in sequences[1:]:\n",
    "        lc = lcsg(lc, seq)\n",
    "\n",
    "    return lc\n",
    "\n",
    "\n",
    "\n",
    "dnas = fasta(file_path)\n",
    "result = lcs(dnas)\n",
    "print(result)"
   ]
  }
 ],
 "metadata": {
  "kernelspec": {
   "display_name": "base",
   "language": "python",
   "name": "python3"
  },
  "language_info": {
   "codemirror_mode": {
    "name": "ipython",
    "version": 3
   },
   "file_extension": ".py",
   "mimetype": "text/x-python",
   "name": "python",
   "nbconvert_exporter": "python",
   "pygments_lexer": "ipython3",
   "version": "3.11.5"
  }
 },
 "nbformat": 4,
 "nbformat_minor": 2
}
