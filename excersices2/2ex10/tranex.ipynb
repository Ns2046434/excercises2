{
 "cells": [
  {
   "cell_type": "markdown",
   "metadata": {},
   "source": [
    "Given: Two DNA strings s1\n",
    " and s2\n",
    " of equal length (at most 1 kbp).\n",
    "\n",
    "Return: The transition/transversion ratio  R(s1,s2)"
   ]
  },
  {
   "cell_type": "code",
   "execution_count": 1,
   "metadata": {},
   "outputs": [],
   "source": [
    "with open('rosalind_tran.txt', 'r') as fa:\n",
    "    lines = fa.readlines()"
   ]
  },
  {
   "cell_type": "code",
   "execution_count": 5,
   "metadata": {},
   "outputs": [
    {
     "name": "stdout",
     "output_type": "stream",
     "text": [
      "2.433333333333333\n"
     ]
    }
   ],
   "source": [
    "transition = [('A', 'G'), ('T', 'C'), ('C', 'T'), ('G', 'A')]\n",
    "transversions = [('A', 'T'), ('A', 'C'), ('T', 'A'), ('T', 'G'), \n",
    "                 ('C', 'A'), ('C', 'G'), ('G', 'T'), ('G', 'C')]\n",
    "\n",
    "def readseq(lines):\n",
    "    seq_name, seq_string = [], []\n",
    "    cseqname = \"\"\n",
    "    cseqstring = \"\"\n",
    "\n",
    "    for line in lines:\n",
    "        line = line.strip()\n",
    "        if line.startswith(\">\"): \n",
    "            if cseqstring: \n",
    "                seq_name.append(cseqname)\n",
    "                seq_string.append(cseqstring)\n",
    "                cseqstring = \"\"  \n",
    "            cseqname = line[1:] \n",
    "        else:\n",
    "            cseqstring += line \n",
    "\n",
    "    if cseqstring:\n",
    "        seq_name.append(cseqname)\n",
    "        seq_string.append(cseqstring)\n",
    "\n",
    "    return seq_name, seq_string\n",
    "\n",
    "def ratios(s1, s2):\n",
    "    trans = 0\n",
    "    transv = 0\n",
    "\n",
    "    for i in range(len(s1)):\n",
    "        if (s1[i], s2[i]) in transition:\n",
    "            trans += 1\n",
    "        elif (s1[i], s2[i]) in transversions:\n",
    "            transv += 1\n",
    "\n",
    "    if transv == 0:\n",
    "        return float('inf') \n",
    "    return trans / transv\n",
    "\n",
    "\n",
    "seq_name, seq_string = readseq(lines)\n",
    "\n",
    "if len(seq_string) >= 2:\n",
    "    s1, s2 = seq_string[0], seq_string[1]\n",
    "    ratio = ratios(s1, s2)\n",
    "    print(ratio)\n"
   ]
  }
 ],
 "metadata": {
  "kernelspec": {
   "display_name": "base",
   "language": "python",
   "name": "python3"
  },
  "language_info": {
   "codemirror_mode": {
    "name": "ipython",
    "version": 3
   },
   "file_extension": ".py",
   "mimetype": "text/x-python",
   "name": "python",
   "nbconvert_exporter": "python",
   "pygments_lexer": "ipython3",
   "version": "3.11.5"
  }
 },
 "nbformat": 4,
 "nbformat_minor": 2
}
