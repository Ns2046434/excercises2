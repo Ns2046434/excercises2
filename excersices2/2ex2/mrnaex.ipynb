{
 "cells": [
  {
   "cell_type": "markdown",
   "metadata": {},
   "source": [
    "Given: A protein string of length at most 1000 aa.\n",
    "\n",
    "Return: The total number of different RNA strings from which the protein could have been translated, modulo 1,000,000. (Don't neglect the importance of the stop codon in protein translation.)"
   ]
  },
  {
   "cell_type": "code",
   "execution_count": 1,
   "metadata": {},
   "outputs": [],
   "source": [
    "with open('rosalind_mrna.txt', 'r') as file:\n",
    "    prot = file.read().strip()\n"
   ]
  },
  {
   "cell_type": "code",
   "execution_count": 2,
   "metadata": {},
   "outputs": [
    {
     "name": "stdout",
     "output_type": "stream",
     "text": [
      "829056\n"
     ]
    }
   ],
   "source": [
    "def mrna(prot):\n",
    "    codon = {\n",
    "        'F': ['UUU', 'UUC'],\n",
    "        'L': ['UUA', 'UUG', 'CUU', 'CUC', 'CUA', 'CUG'],\n",
    "        'S': ['UCU', 'UCC', 'UCA', 'UCG', 'AGU', 'AGC'],\n",
    "        'Y': ['UAU', 'UAC'],\n",
    "        '*': ['UAA', 'UAG', 'UGA'],\n",
    "        'C': ['UGU', 'UGC'],\n",
    "        'W': ['UGG'],\n",
    "        'P': ['CCU', 'CCC', 'CCA', 'CCG'],\n",
    "        'H': ['CAU', 'CAC'],\n",
    "        'Q': ['CAA', 'CAG'],\n",
    "        'R': ['CGU', 'CGC', 'CGA', 'CGG', 'AGA', 'AGG'],\n",
    "        'V': ['GUU', 'GUC', 'GUA', 'GUG'],\n",
    "        'A': ['GCU', 'GCC', 'GCA', 'GCG'],\n",
    "        'D': ['GAU', 'GAC'],\n",
    "        'E': ['GAA', 'GAG'],\n",
    "        'G': ['GGU', 'GGC', 'GGA', 'GGG'],\n",
    "        'I': ['AUU', 'AUC', 'AUA'],\n",
    "        'M': ['AUG'],\n",
    "        'T': ['ACU', 'ACC', 'ACA', 'ACG'],\n",
    "        'N': ['AAU', 'AAC'],\n",
    "        'K': ['AAA', 'AAG']\n",
    "    }\n",
    "    \n",
    "    n = len(prot)\n",
    "    dp = [0] * (n + 1)\n",
    "    dp[0] = 1  \n",
    "\n",
    "    for i in range(1, n + 1):\n",
    "        aa = prot[i - 1]  \n",
    "        dp[i] = dp[i - 1] * len(codon[aa]) \n",
    "\n",
    "    dp[n] = (dp[n] * len(codon[\"*\"])) % 1000000\n",
    "    \n",
    "    return dp[n]\n",
    "\n",
    "number = mrna(prot)\n",
    "\n",
    "print(number)"
   ]
  }
 ],
 "metadata": {
  "kernelspec": {
   "display_name": "base",
   "language": "python",
   "name": "python3"
  },
  "language_info": {
   "codemirror_mode": {
    "name": "ipython",
    "version": 3
   },
   "file_extension": ".py",
   "mimetype": "text/x-python",
   "name": "python",
   "nbconvert_exporter": "python",
   "pygments_lexer": "ipython3",
   "version": "3.11.5"
  }
 },
 "nbformat": 4,
 "nbformat_minor": 2
}
